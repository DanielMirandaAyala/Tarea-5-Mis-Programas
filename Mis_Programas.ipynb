{
  "nbformat": 4,
  "nbformat_minor": 0,
  "metadata": {
    "colab": {
      "provenance": [],
      "authorship_tag": "ABX9TyN5pIxuPQd0b12s3qsmbtr6",
      "include_colab_link": true
    },
    "kernelspec": {
      "name": "python3",
      "display_name": "Python 3"
    },
    "language_info": {
      "name": "python"
    }
  },
  "cells": [
    {
      "cell_type": "markdown",
      "metadata": {
        "id": "view-in-github",
        "colab_type": "text"
      },
      "source": [
        "<a href=\"https://colab.research.google.com/github/DanielMirandaAyala/Tarea-5-Mis-Programas/blob/main/Mis_Programas.ipynb\" target=\"_parent\"><img src=\"https://colab.research.google.com/assets/colab-badge.svg\" alt=\"Open In Colab\"/></a>"
      ]
    },
    {
      "cell_type": "code",
      "execution_count": 1,
      "metadata": {
        "colab": {
          "base_uri": "https://localhost:8080/"
        },
        "id": "Ak6COXK88v3r",
        "outputId": "b15bdded-48cb-4f52-e6f6-adeb082bd758"
      },
      "outputs": [
        {
          "output_type": "stream",
          "name": "stdout",
          "text": [
            "Daniel Miranda Ayala\n"
          ]
        }
      ],
      "source": [
        "#Nombre\n",
        "Nombre = \"Daniel Miranda Ayala\"\n",
        "print(Nombre)"
      ]
    },
    {
      "cell_type": "code",
      "source": [
        "#Mostrar Nombre\n",
        "Nombre = input(\"introduzca su nombre\")\n",
        "print(\"Su nombre es: \"+ Nombre)"
      ],
      "metadata": {
        "colab": {
          "base_uri": "https://localhost:8080/"
        },
        "id": "OFZDYHPH815w",
        "outputId": "a7433d09-62a5-4c94-cff6-3a60b6e1f0cc"
      },
      "execution_count": 3,
      "outputs": [
        {
          "output_type": "stream",
          "name": "stdout",
          "text": [
            "introduzca su nombreDaniel Miranda Ayala\n",
            "Su nombre es: Daniel Miranda Ayala\n"
          ]
        }
      ]
    },
    {
      "cell_type": "code",
      "source": [
        "#Suma\n",
        "Variable1 = int(input(\"Introduzca el primer digito: \"))\n",
        "Variable2 = int(input(\"Introduzca el segundo digito: \"))\n",
        "Resultado = Variable1 + Variable2\n",
        "print(f'El resultado es: {Resultado}')"
      ],
      "metadata": {
        "colab": {
          "base_uri": "https://localhost:8080/"
        },
        "id": "xye1V-Mf9Aw4",
        "outputId": "2af7f9e9-9171-4db7-8c0d-71d666f22bc6"
      },
      "execution_count": 5,
      "outputs": [
        {
          "output_type": "stream",
          "name": "stdout",
          "text": [
            "Introduzca el primer digito: 2\n",
            "Introduzca el segundo digito: 2\n",
            "El resultado es: 4\n"
          ]
        }
      ]
    },
    {
      "cell_type": "code",
      "source": [
        "from random import randint\n",
        "from IPython.utils.path import random\n",
        "#Adivinar Numero\n",
        "Adivinanza = randint(1, 10)\n",
        "Respuesta = 0\n",
        "while(Adivinanza != Respuesta):\n",
        "  Respuesta = int(input(\"Adivina el número del 1 al 10  \"))\n",
        "  if Respuesta == Adivinanza:\n",
        "    print(\"Correcto\")\n",
        "  else:\n",
        "    print(\"Incorrecto, intente otra vez\")"
      ],
      "metadata": {
        "colab": {
          "base_uri": "https://localhost:8080/"
        },
        "id": "QaBmaubR9iRy",
        "outputId": "059afe8d-be9a-4e33-9289-b1a6ca76c763"
      },
      "execution_count": 6,
      "outputs": [
        {
          "output_type": "stream",
          "name": "stdout",
          "text": [
            "Adivina el número del 1 al 10  1\n",
            "Incorrecto, intente otra vez\n",
            "Adivina el número del 1 al 10  2\n",
            "Incorrecto, intente otra vez\n",
            "Adivina el número del 1 al 10  3\n",
            "Incorrecto, intente otra vez\n",
            "Adivina el número del 1 al 10  4\n",
            "Incorrecto, intente otra vez\n",
            "Adivina el número del 1 al 10  5\n",
            "Incorrecto, intente otra vez\n",
            "Adivina el número del 1 al 10  6\n",
            "Correcto\n"
          ]
        }
      ]
    },
    {
      "cell_type": "code",
      "source": [
        "#And\n",
        "Variable1 = int(input(\"A es 1 o 0 \"))\n",
        "Variable2 = int(input(\"B es 1 o 0 \"))\n",
        "if Variable1 == Variable2:\n",
        "  print(\"Pasa\")\n",
        "else:\n",
        "  print(\"No pasa\")"
      ],
      "metadata": {
        "colab": {
          "base_uri": "https://localhost:8080/"
        },
        "id": "i8TSpK0f96VK",
        "outputId": "df54abf1-7698-4fbe-d927-3bb75592ccd4"
      },
      "execution_count": 7,
      "outputs": [
        {
          "output_type": "stream",
          "name": "stdout",
          "text": [
            "A es 1 o 0 1\n",
            "B es 1 o 0 1\n",
            "Pasa\n"
          ]
        }
      ]
    },
    {
      "cell_type": "code",
      "source": [
        "#or\n",
        "Variable1 = int(input(\"A es 1 o 0 \"))\n",
        "Variable2 = int(input(\"B es 1 o 0 \"))\n",
        "if (Variable1 == 1 or Variable2 == 1):\n",
        "  print(\"Pasa\")\n",
        "else:\n",
        "  print(\"No pasa\")"
      ],
      "metadata": {
        "colab": {
          "base_uri": "https://localhost:8080/"
        },
        "id": "rFYksVYp98Zg",
        "outputId": "7d4a68d2-c7c9-4b46-a1bc-fa6178eb33e3"
      },
      "execution_count": 9,
      "outputs": [
        {
          "output_type": "stream",
          "name": "stdout",
          "text": [
            "A es 1 o 0 0\n",
            "B es 1 o 0 1\n",
            "Pasa\n"
          ]
        }
      ]
    },
    {
      "cell_type": "code",
      "source": [
        "#not\n",
        "Variable1 = int(input(\"A es 1 o 0 \"))\n",
        "if Variable1 == 1:\n",
        "  print(\"Falso\")\n",
        "else:\n",
        "  print(\"Verdadero\")"
      ],
      "metadata": {
        "colab": {
          "base_uri": "https://localhost:8080/"
        },
        "id": "rJUKiJSg98PB",
        "outputId": "f4b05467-cb1b-488b-a031-afaff92b0707"
      },
      "execution_count": 14,
      "outputs": [
        {
          "output_type": "stream",
          "name": "stdout",
          "text": [
            "A es 1 o 0 0\n",
            "Verdadero\n"
          ]
        }
      ]
    }
  ]
}